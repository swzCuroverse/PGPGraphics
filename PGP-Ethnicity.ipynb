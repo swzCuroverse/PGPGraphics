{
 "cells": [
  {
   "cell_type": "markdown",
   "metadata": {},
   "source": [
    "## Race and Ethnicity of PGP Particpants"
   ]
  },
  {
   "cell_type": "code",
   "execution_count": 1,
   "metadata": {
    "collapsed": true
   },
   "outputs": [],
   "source": [
    "%matplotlib inline\n",
    "import matplotlib.pyplot as plt\n",
    "import sqlite3\n",
    "import pandas as pd\n",
    "import numpy as np\n",
    "from scipy import stats"
   ]
  },
  {
   "cell_type": "code",
   "execution_count": 2,
   "metadata": {
    "collapsed": false
   },
   "outputs": [],
   "source": [
    "# Set default plot stype for matplotlib\n",
    "plt.style.use('ggplot')\n",
    "\n",
    "# Set default figure size for matplotlib\n",
    "plt.rcParams['figure.figsize'] = (12, 6)"
   ]
  },
  {
   "cell_type": "code",
   "execution_count": 3,
   "metadata": {
    "collapsed": false
   },
   "outputs": [],
   "source": [
    "# Connect to untap database (using sqlite3), found here: \n",
    "# https://workbench.su92l.arvadosapi.com/projects/su92l-j7d0g-k6xjjk9g0l5pmqh#Description\n",
    "conn = sqlite3.connect('Database/untap.db')\n",
    "c = conn.cursor()\n",
    "c.execute('SELECT * FROM survey')\n",
    "rows = c.fetchall()\n",
    "data = pd.DataFrame(rows,columns=zip(*c.description)[0])\n",
    "conn.close()"
   ]
  },
  {
   "cell_type": "code",
   "execution_count": 4,
   "metadata": {
    "collapsed": false
   },
   "outputs": [
    {
     "data": {
      "text/plain": [
       "phenotype\n",
       "American Indian / Alaska Native                                                                                    4\n",
       "American Indian / Alaska Native, Asian, Black or African American, White                                           3\n",
       "American Indian / Alaska Native, Asian, White                                                                      1\n",
       "American Indian / Alaska Native, Black or African American, White                                                  9\n",
       "American Indian / Alaska Native, Hispanic or Latino                                                                1\n",
       "American Indian / Alaska Native, Hispanic or Latino, Black or African American                                     1\n",
       "American Indian / Alaska Native, Hispanic or Latino, Black or African American, White                              3\n",
       "American Indian / Alaska Native, Hispanic or Latino, White                                                        12\n",
       "American Indian / Alaska Native, Native Hawaiian or Other Pacific Islander, Black or African American, White       1\n",
       "American Indian / Alaska Native, Native Hawaiian or Other Pacific Islander, White                                  3\n",
       "American Indian / Alaska Native, White                                                                            92\n",
       "American Indian / Alaska Native, White, No response                                                                2\n",
       "Asian                                                                                                            109\n",
       "Asian, Black or African American, White                                                                            1\n",
       "Asian, Hispanic or Latino                                                                                          2\n",
       "Asian, Native Hawaiian or Other Pacific Islander, Black or African American, White                                 2\n",
       "Asian, Native Hawaiian or Other Pacific Islander, White                                                            4\n",
       "Asian, White                                                                                                      37\n",
       "Black or African American                                                                                         35\n",
       "Black or African American, White                                                                                  16\n",
       "Hispanic or Latino                                                                                                51\n",
       "Hispanic or Latino, Black or African American                                                                      2\n",
       "Hispanic or Latino, Black or African American, White                                                               4\n",
       "Hispanic or Latino, Native Hawaiian or Other Pacific Islander                                                      1\n",
       "Hispanic or Latino, Native Hawaiian or Other Pacific Islander, White                                               2\n",
       "Hispanic or Latino, White                                                                                         61\n",
       "Native Hawaiian or Other Pacific Islander                                                                          2\n",
       "Native Hawaiian or Other Pacific Islander, White                                                                   1\n",
       "No response                                                                                                       27\n",
       "White                                                                                                           3002\n",
       "White, No response                                                                                                 3\n",
       "Name: human_id, dtype: int64"
      ]
     },
     "execution_count": 4,
     "metadata": {},
     "output_type": "execute_result"
    }
   ],
   "source": [
    "# Find survey results from Race/ethnicity survey\n",
    "raceIdx = data.phenotype_category == 'Participant_Survey:Race/ethnicity'\n",
    "raceData = data[raceIdx]\n",
    "raceData.index = raceData['id']\n",
    "\n",
    "raceGroups = raceData.groupby('phenotype')['human_id'].count()\n",
    "raceGroups"
   ]
  },
  {
   "cell_type": "code",
   "execution_count": 5,
   "metadata": {
    "collapsed": false
   },
   "outputs": [],
   "source": [
    "# Creating columns with race categories\n",
    "idxWhite = raceData['phenotype'].str.contains('White',na=False)\n",
    "idxAsian = raceData['phenotype'].str.contains('Asian',na=False)\n",
    "idxBlack = raceData['phenotype'].str.contains('Black',na=False)\n",
    "idxAIAN = raceData['phenotype'].str.contains('Alaska Native',na=False)\n",
    "idxHispanic = raceData['phenotype'].str.contains('Hispanic',na=False) \n",
    "idxNHPC = raceData['phenotype'].str.contains('Pacific',na=False)\n",
    "\n",
    "# Marking participants race/ethncity (1 or 0)\n",
    "byRace = pd.DataFrame()\n",
    "byRace['White'] = idxWhite\n",
    "byRace['Asian'] = idxAsian\n",
    "byRace['Black or African American'] = idxBlack\n",
    "byRace['American Indian or Alaska Native'] = idxAIAN\n",
    "byRace['Native Hawaiian or Pacific Islander'] = idxNHPC\n",
    "byRace['Hispanic or Latino'] = idxHispanic\n",
    "\n",
    "# Count number of participants per race category\n",
    "raceTotals = 100*byRace.sum()/len(byRace.index)"
   ]
  },
  {
   "cell_type": "code",
   "execution_count": 6,
   "metadata": {
    "collapsed": false
   },
   "outputs": [],
   "source": [
    "# Creating dataframe to compare PGP percentages vs those in US general population\n",
    "## Note: categories/grouping based off of those in the 2010 US Census \n",
    "## https://www.census.gov/prod/cen2010/briefs/c2010br-02.pdf\n",
    "\n",
    "raceCompare = pd.DataFrame()\n",
    "raceCompare['PGP']= raceTotals[0:]\n",
    "raceCompare['USA'] = [74.8, 5.6, 13.6, 1.7 ,0.4, 16.3]; "
   ]
  },
  {
   "cell_type": "code",
   "execution_count": 7,
   "metadata": {
    "collapsed": false
   },
   "outputs": [
    {
     "data": {
      "image/png": "[encoded data removed]",
      "text/plain": [
       "<matplotlib.figure.Figure at 0x7ff1fc81bd50>"
      ]
     },
     "metadata": {},
     "output_type": "display_data"
    }
   ],
   "source": [
    "# Plot data to compare distribution of PGP participants vs general population\n",
    "\n",
    "ax = raceCompare.plot(kind='bar')\n",
    "labels = ax.get_xticklabels()\n",
    "ax.set_xticklabels(['White','Asian','Black or\\n African American',\n",
    "                    'American Indian or\\n Alaska Native', 'Native Hawaiian or\\n Pacific Islander', 'Hispanic'],\n",
    "                   rotation=330,fontsize = 10, multialignment = 'center') \n",
    "\n",
    "ax.set_ylabel('Percentage (%)')\n",
    "\n",
    "plt.gcf().subplots_adjust(bottom=0.3)\n",
    "plt.savefig('Images/barplotEthnicity.png',format='png')"
   ]
  }
 ],
 "metadata": {
  "kernelspec": {
   "display_name": "Python 2",
   "language": "python",
   "name": "python2"
  },
  "language_info": {
   "codemirror_mode": {
    "name": "ipython",
    "version": 2
   },
   "file_extension": ".py",
   "mimetype": "text/x-python",
   "name": "python",
   "nbconvert_exporter": "python",
   "pygments_lexer": "ipython2",
   "version": "2.7.10"
  }
 },
 "nbformat": 4,
 "nbformat_minor": 0
}
