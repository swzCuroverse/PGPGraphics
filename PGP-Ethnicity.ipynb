{
 "cells": [
  {
   "cell_type": "code",
   "execution_count": 1,
   "metadata": {
    "collapsed": true
   },
   "outputs": [],
   "source": [
    "%matplotlib inline\n",
    "import matplotlib.pyplot as plt\n",
    "import sqlite3\n",
    "import pandas as pd\n",
    "import numpy as np\n",
    "from scipy import stats"
   ]
  },
  {
   "cell_type": "code",
   "execution_count": 2,
   "metadata": {
    "collapsed": true
   },
   "outputs": [],
   "source": [
    "plt.style.use('ggplot')"
   ]
  },
  {
   "cell_type": "code",
   "execution_count": 3,
   "metadata": {
    "collapsed": false
   },
   "outputs": [],
   "source": [
    "conn = sqlite3.connect('untap.db')\n",
    "c = conn.cursor()\n",
    "c.execute('SELECT * FROM demographics')\n",
    "rows = c.fetchall()\n",
    "test = pd.DataFrame(rows,columns=zip(*c.description)[0])\n",
    "conn.close()\n",
    "\n",
    "test.human_id = test.human_id.str.lower();\n",
    "pgpdataE = pd.read_csv('PGP Ethnicity by Enrollment Date.csv')\n",
    "pgpdataE.human_id = pgpdataE.human_id.str.lower();\n",
    "\n",
    "alldata = pgpdataE.merge(test, on='human_id', how='outer')"
   ]
  },
  {
   "cell_type": "code",
   "execution_count": 4,
   "metadata": {
    "collapsed": false
   },
   "outputs": [],
   "source": [
    "## Note: categories based off of those in the 2000  US Census cateogories for race\n",
    "## https://en.wikipedia.org/wiki/Race_and_ethnicity_in_the_United_States_Census#21st_century\n",
    "## Examing groups used for phenotype/race just to make sure we get them all\n",
    "\n",
    "race1 = alldata.groupby('race')['human_id'].count()\n",
    "race2 = alldata.groupby('phenotype')['human_id'].count()"
   ]
  },
  {
   "cell_type": "code",
   "execution_count": 5,
   "metadata": {
    "collapsed": false,
    "scrolled": true
   },
   "outputs": [
    {
     "data": {
      "text/plain": [
       "race\n",
       "                                       354\n",
       "American Indian or Alaska Native        31\n",
       "Asian                                   35\n",
       "Black or African American               11\n",
       "Caucasian (White)                        1\n",
       "Hispanic or Latino                      12\n",
       "Hispanic/Latino                         12\n",
       "Native Hawaiian or Pacific Islander      1\n",
       "White                                  859\n",
       "Name: human_id, dtype: int64"
      ]
     },
     "execution_count": 5,
     "metadata": {},
     "output_type": "execute_result"
    }
   ],
   "source": [
    "race1"
   ]
  },
  {
   "cell_type": "code",
   "execution_count": 6,
   "metadata": {
    "collapsed": false
   },
   "outputs": [],
   "source": [
    "idxWhite = alldata['race'].str.contains('White',na=False) | alldata['phenotype'].str.contains('White',na=False)\n",
    "idxAsian = alldata['race'].str.contains('Asian',na=False) | alldata['phenotype'].str.contains('Asian',na=False)\n",
    "idxBlack = alldata['race'].str.contains('Black',na=False) | alldata['phenotype'].str.contains('Black',na=False)\n",
    "idxAIAN = alldata['race'].str.contains('Alaska Native',na=False) | alldata['phenotype'].str.contains('Alaska Native',na=False)\n",
    "idxHispanic = alldata['race'].str.contains('Hispanic',na=False) | alldata['phenotype'].str.contains('Hispanic',na=False)\n",
    "idxNHPC = alldata['race'].str.contains('Pacific',na=False) | alldata['phenotype'].str.contains('Pacific',na=False)"
   ]
  },
  {
   "cell_type": "code",
   "execution_count": 7,
   "metadata": {
    "collapsed": false
   },
   "outputs": [],
   "source": [
    "alldata['White'] = idxWhite\n",
    "alldata['Asian'] = idxAsian\n",
    "alldata['Black or African American'] = idxBlack\n",
    "alldata['American Indian or Alaska Native'] = idxAIAN\n",
    "alldata['Native Hawaiian or Pacific Islander'] = idxNHPC\n",
    "alldata['Hispanic or Latino'] = idxHispanic"
   ]
  },
  {
   "cell_type": "code",
   "execution_count": 8,
   "metadata": {
    "collapsed": false
   },
   "outputs": [],
   "source": [
    "raceData = alldata[['White','Asian','Black or African American','American Indian or Alaska Native', 'Native Hawaiian or Pacific Islander']]"
   ]
  },
  {
   "cell_type": "code",
   "execution_count": 9,
   "metadata": {
    "collapsed": false
   },
   "outputs": [],
   "source": [
    "raceTotals = raceData.sum()\n",
    "raceTotals = 100.*raceTotals/raceTotals.sum();\n",
    "raceCompare = pd.DataFrame(columns=['PGP'])\n",
    "raceCompare['PGP']= raceTotals[0:]\n",
    "raceCompare['USA'] = [74.8, 1.7, 13.6, 1.7,0.4]; "
   ]
  },
  {
   "cell_type": "code",
   "execution_count": 10,
   "metadata": {
    "collapsed": false
   },
   "outputs": [
    {
     "data": {
      "image/png": "[encoded data removed]",
      "text/plain": [
       "<matplotlib.figure.Figure at 0x7fb0d2254950>"
      ]
     },
     "metadata": {},
     "output_type": "display_data"
    }
   ],
   "source": [
    "ax = raceCompare.plot(kind='bar')\n",
    "labels = ax.get_xticklabels()\n",
    "ax.set_xticklabels(['White','Asian','Black or\\n African American',\n",
    "                    'American Indian or\\n Alaska Native', 'Native Hawaiian or\\n Pacific Islander'],\n",
    "                   rotation=330,fontsize = 10, multialignment = 'center') \n",
    "\n",
    "ax.set_ylabel('Percentage (%)')\n",
    "\n",
    "plt.gcf().subplots_adjust(bottom=0.3)\n",
    "plt.savefig('race.svg',format='svg')"
   ]
  },
  {
   "cell_type": "code",
   "execution_count": null,
   "metadata": {
    "collapsed": true
   },
   "outputs": [],
   "source": []
  }
 ],
 "metadata": {
  "kernelspec": {
   "display_name": "Python 2",
   "language": "python",
   "name": "python2"
  },
  "language_info": {
   "codemirror_mode": {
    "name": "ipython",
    "version": 2
   },
   "file_extension": ".py",
   "mimetype": "text/x-python",
   "name": "python",
   "nbconvert_exporter": "python",
   "pygments_lexer": "ipython2",
   "version": "2.7.10"
  }
 },
 "nbformat": 4,
 "nbformat_minor": 0
}
